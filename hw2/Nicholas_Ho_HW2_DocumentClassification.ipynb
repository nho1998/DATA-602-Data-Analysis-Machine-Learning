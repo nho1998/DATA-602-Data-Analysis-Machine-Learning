{
  "nbformat": 4,
  "nbformat_minor": 0,
  "metadata": {
    "colab": {
      "name": "Nicholas Ho HW2-DocumentClassification.ipynb",
      "provenance": [],
      "collapsed_sections": []
    },
    "kernelspec": {
      "name": "python3",
      "display_name": "Python 3"
    },
    "language_info": {
      "name": "python"
    }
  },
  "cells": [
    {
      "cell_type": "markdown",
      "metadata": {
        "id": "w3n07xurnj8G"
      },
      "source": [
        "###  20 News Groups Corpus, Sample dataset included in scikit-learn\n",
        "A collection of almost 20,000 articles on 20 different topics or 'newsgroups'.   \n",
        "Corpus: Text Collection\n",
        "more info: https://scikit-learn.org/stable/modules/generated/sklearn.datasets.fetch_20newsgroups.html"
      ]
    },
    {
      "cell_type": "code",
      "metadata": {
        "id": "kZFnmJHrnlsw"
      },
      "source": [
        "import pandas as pd\n",
        "from sklearn.datasets import fetch_20newsgroups\n",
        "\n",
        "twenty_groups = fetch_20newsgroups(subset='all', random_state=21) \n",
        "# we will do cross validation, so we fetch all data\n",
        "# random state again same for all of you, so you all have the same shuffling for having same results"
      ],
      "execution_count": 1,
      "outputs": []
    },
    {
      "cell_type": "markdown",
      "metadata": {
        "id": "uTwhcntfoVP-"
      },
      "source": [
        "### These are the groups that the text samples originated from."
      ]
    },
    {
      "cell_type": "code",
      "metadata": {
        "colab": {
          "base_uri": "https://localhost:8080/"
        },
        "id": "xRGFKl-1n8mz",
        "outputId": "a4114697-3362-4c58-9c82-595a940953f0"
      },
      "source": [
        "twenty_groups.target_names"
      ],
      "execution_count": 2,
      "outputs": [
        {
          "output_type": "execute_result",
          "data": {
            "text/plain": [
              "['alt.atheism',\n",
              " 'comp.graphics',\n",
              " 'comp.os.ms-windows.misc',\n",
              " 'comp.sys.ibm.pc.hardware',\n",
              " 'comp.sys.mac.hardware',\n",
              " 'comp.windows.x',\n",
              " 'misc.forsale',\n",
              " 'rec.autos',\n",
              " 'rec.motorcycles',\n",
              " 'rec.sport.baseball',\n",
              " 'rec.sport.hockey',\n",
              " 'sci.crypt',\n",
              " 'sci.electronics',\n",
              " 'sci.med',\n",
              " 'sci.space',\n",
              " 'soc.religion.christian',\n",
              " 'talk.politics.guns',\n",
              " 'talk.politics.mideast',\n",
              " 'talk.politics.misc',\n",
              " 'talk.religion.misc']"
            ]
          },
          "metadata": {},
          "execution_count": 2
        }
      ]
    },
    {
      "cell_type": "markdown",
      "metadata": {
        "id": "WiYrProcqDsI"
      },
      "source": [
        "#### Seeing what is the class of first entry:"
      ]
    },
    {
      "cell_type": "code",
      "metadata": {
        "colab": {
          "base_uri": "https://localhost:8080/"
        },
        "id": "MulQjRg-ps3-",
        "outputId": "4e8cba4a-edfc-4146-a910-e9fd5bbc92ae"
      },
      "source": [
        "i=0\n",
        "twenty_groups.target[i]"
      ],
      "execution_count": 3,
      "outputs": [
        {
          "output_type": "execute_result",
          "data": {
            "text/plain": [
              "18"
            ]
          },
          "metadata": {},
          "execution_count": 3
        }
      ]
    },
    {
      "cell_type": "markdown",
      "metadata": {
        "id": "oxGou9XgqMzz"
      },
      "source": [
        "#### Index 9 is rec.sport.baseball, lets look at the first entry and see if it makes sense:"
      ]
    },
    {
      "cell_type": "code",
      "metadata": {
        "colab": {
          "base_uri": "https://localhost:8080/",
          "height": 86
        },
        "id": "LJ0o51wep8UW",
        "outputId": "800ff8e0-a385-441b-d210-9008e19fff5e"
      },
      "source": [
        "twenty_groups.data[i]"
      ],
      "execution_count": 4,
      "outputs": [
        {
          "output_type": "execute_result",
          "data": {
            "application/vnd.google.colaboratory.intrinsic+json": {
              "type": "string"
            },
            "text/plain": [
              "'From: hallam@dscomsa.desy.de (Phill Hallam-Baker)\\nSubject: Re: re: fillibuster\\nLines: 55\\nReply-To: hallam@zeus02.desy.de\\nOrganization: DESYDeutsches Elektronen Synchrotron, Experiment ZEUS bei HERA\\n\\n\\nIn article <1993Apr12.002302.5262@martha.utcc.utk.edu>, PA146008@utkvm1.utk.edu (David Veal) writes:\\n\\n|>>Come to that under the original plan there wasn\\'t meant to be anything\\n|>>much for the federal government to do except keep the British out.\\n|>\\n|>       That\\'s also untrue, but at least we\\'re wandering a little closer\\n|>toward reality.  That the Articles of Confederation fell apart is enough\\n|>proof it was there for just a tad bit more.\\n\\nWell yes and no. The Federalist papers are propaganda and it is therefore\\ndifficult to determine precisely what Maddison etc were up to from them. They\\ncertainly emphasised a limited role for the federal government but this\\nwas not necessarily their true position.\\n\\n|>>And like the house of lords which it is copied from it was given pretty\\n|>>wide powers. Unfortunately they started to use them and thus the gridlock\\n|>>set in.\\n|>\\n|>       I wasn\\'t aware the House of Lords had \"wide powers.\"  I was under the\\n|>impression is was pretty powerless compared to the House of Commons, and\\n|>certainly didn\\'t have almost equal their powers.  (The Senate is restricted\\n|>only that it may not introduce bills relating to raising revenue.)\\n\\nThe Senate was less powerful than the House of Lords in the period in question.\\nThe stripping of the powers of the House of Lords did not occur until 1914\\nand David Llloyd George\\'s budget. Even despite this the House of Lords has\\nconsiderable power even today and is far from a rubber stamping body. \\n\\n\\n|>       My reading of the Constitution and other writings gives me absolutely\\n|>no reason to believe the Senate wasn\\'t intended to make use of their \\n|>law-making powers.  In fact, grid-lock appears to have been designed\\n|>into the system, with the Senate being a more deliberative body to act\\n|>as a check on the more-often elected House.\\n\\nThe system is meant to be slow to react, the problem is that it ended up\\na bit too slow.\\n\\n\\n|>       On what basis do you suggest that the Senate was supposed to be\\n|>some sort of rubber-stamp for the House?  You\\'ll note that while the\\n|>President\\'s veto may be over-ridden, the House can\\'t do anything about\\n|>a \"veto\" by the Senate.\\n\\nThe Presiden\\'t veto was meant to be entirely separate. Until Bush abused it\\nin a quite extraordinary manner it was used more in accord with the intent\\nof being a check on unreasonable legislation. The veto was clearly regarded \\nas a completely last gasp measure its use was meant to be restricted to\\npreventing the legislature interfering with the actions of the executive.\\n\\nthe Senate is not meant to be exactly a rubber stamp body, it is meant as\\na check on unrestrained legislation. That is the extra measure built into\\nthe constitution in favour of the status quo, 60% of the representatives\\nof the states is not a reasonable restriction. \\n'"
            ]
          },
          "metadata": {},
          "execution_count": 4
        }
      ]
    },
    {
      "cell_type": "markdown",
      "metadata": {
        "id": "86Lp9LaIo6yP"
      },
      "source": [
        "## Q1: Is the full dataset balanced for each class? Do a barchart."
      ]
    },
    {
      "cell_type": "code",
      "metadata": {
        "colab": {
          "base_uri": "https://localhost:8080/"
        },
        "id": "IilluU19YaG3",
        "outputId": "3d97dfe5-5a9a-4a93-feec-ef6739fb4699"
      },
      "source": [
        "twenty_groups.target"
      ],
      "execution_count": 5,
      "outputs": [
        {
          "output_type": "execute_result",
          "data": {
            "text/plain": [
              "array([18, 12,  9, ..., 11, 18,  7])"
            ]
          },
          "metadata": {},
          "execution_count": 5
        }
      ]
    },
    {
      "cell_type": "code",
      "metadata": {
        "id": "NrEG-p9t0sUr",
        "colab": {
          "base_uri": "https://localhost:8080/",
          "height": 744
        },
        "outputId": "ebf44395-defe-401d-c732-40d2838603f4"
      },
      "source": [
        "# ANSWER to Q1 goes here\n",
        "########################\n",
        "import matplotlib.pyplot as plt\n",
        "\n",
        "print(twenty_groups.target.size)\n",
        "\n",
        "df = pd.DataFrame(twenty_groups.target, columns = ['Data'])\n",
        "df_data_sum = df.groupby('Data').size()\n",
        "\n",
        "print(df_data_sum.head(50))\n",
        "\n",
        "df_data_sum.plot(kind='bar', ylabel='Data Count', xlabel='Classes', figsize=(6, 5))\n",
        "\n",
        "# Some of the classes have more datasets than others \n"
      ],
      "execution_count": 6,
      "outputs": [
        {
          "output_type": "stream",
          "name": "stdout",
          "text": [
            "18846\n",
            "Data\n",
            "0     799\n",
            "1     973\n",
            "2     985\n",
            "3     982\n",
            "4     963\n",
            "5     988\n",
            "6     975\n",
            "7     990\n",
            "8     996\n",
            "9     994\n",
            "10    999\n",
            "11    991\n",
            "12    984\n",
            "13    990\n",
            "14    987\n",
            "15    997\n",
            "16    910\n",
            "17    940\n",
            "18    775\n",
            "19    628\n",
            "dtype: int64\n"
          ]
        },
        {
          "output_type": "execute_result",
          "data": {
            "text/plain": [
              "<matplotlib.axes._subplots.AxesSubplot at 0x7f8daee02c90>"
            ]
          },
          "metadata": {},
          "execution_count": 6
        },
        {
          "output_type": "display_data",
          "data": {
            "image/png": "[encoded data removed]",
            "text/plain": [
              "<Figure size 432x360 with 1 Axes>"
            ]
          },
          "metadata": {
            "needs_background": "light"
          }
        }
      ]
    },
    {
      "cell_type": "markdown",
      "metadata": {
        "id": "QwqiL_VhxuKU"
      },
      "source": [
        "We want to work on a binary classification example.\n",
        "Let's focus on one class 'misc.forsale', and name the rest as others.\n",
        "\n",
        "Or let's say we wanted to have a model for detecting sales related emails, and \n",
        "used this dataset to train that model"
      ]
    },
    {
      "cell_type": "code",
      "metadata": {
        "colab": {
          "base_uri": "https://localhost:8080/"
        },
        "id": "UeeVDVyUo5Su",
        "outputId": "e8d0b6ab-a1dc-478e-9e32-d2532007eaa8"
      },
      "source": [
        "type(twenty_groups.target_names)"
      ],
      "execution_count": 7,
      "outputs": [
        {
          "output_type": "execute_result",
          "data": {
            "text/plain": [
              "list"
            ]
          },
          "metadata": {},
          "execution_count": 7
        }
      ]
    },
    {
      "cell_type": "code",
      "metadata": {
        "id": "NoRsgDTDyKTB"
      },
      "source": [
        "twenty_groups.target_names.append('others')"
      ],
      "execution_count": 8,
      "outputs": []
    },
    {
      "cell_type": "code",
      "metadata": {
        "colab": {
          "base_uri": "https://localhost:8080/"
        },
        "id": "wr7shlJCyRsq",
        "outputId": "951cba62-d1ac-4ed9-f49c-91729256b2a0"
      },
      "source": [
        "len(twenty_groups.target_names)"
      ],
      "execution_count": 9,
      "outputs": [
        {
          "output_type": "execute_result",
          "data": {
            "text/plain": [
              "21"
            ]
          },
          "metadata": {},
          "execution_count": 9
        }
      ]
    },
    {
      "cell_type": "code",
      "metadata": {
        "colab": {
          "base_uri": "https://localhost:8080/"
        },
        "id": "OrPwRVSSzIu4",
        "outputId": "108942b4-8f36-480e-c63e-e589f759a936"
      },
      "source": [
        "for i in range(0,21):\n",
        "  print(str(i) + \" \" + twenty_groups.target_names[i])"
      ],
      "execution_count": 10,
      "outputs": [
        {
          "output_type": "stream",
          "name": "stdout",
          "text": [
            "0 alt.atheism\n",
            "1 comp.graphics\n",
            "2 comp.os.ms-windows.misc\n",
            "3 comp.sys.ibm.pc.hardware\n",
            "4 comp.sys.mac.hardware\n",
            "5 comp.windows.x\n",
            "6 misc.forsale\n",
            "7 rec.autos\n",
            "8 rec.motorcycles\n",
            "9 rec.sport.baseball\n",
            "10 rec.sport.hockey\n",
            "11 sci.crypt\n",
            "12 sci.electronics\n",
            "13 sci.med\n",
            "14 sci.space\n",
            "15 soc.religion.christian\n",
            "16 talk.politics.guns\n",
            "17 talk.politics.mideast\n",
            "18 talk.politics.misc\n",
            "19 talk.religion.misc\n",
            "20 others\n"
          ]
        }
      ]
    },
    {
      "cell_type": "markdown",
      "metadata": {
        "id": "mFxHrhrwytxL"
      },
      "source": [
        "Since first class was 0, 'others' class will be index 20, we need to replace \n",
        "everything except 6 (\"misc.forsale\") with 20 in the target. "
      ]
    },
    {
      "cell_type": "code",
      "metadata": {
        "colab": {
          "base_uri": "https://localhost:8080/"
        },
        "id": "6lN4yBwSyUty",
        "outputId": "82b1c265-9e8c-4c04-90fb-a2a0a7c42087"
      },
      "source": [
        "twenty_groups.target[0]"
      ],
      "execution_count": 11,
      "outputs": [
        {
          "output_type": "execute_result",
          "data": {
            "text/plain": [
              "18"
            ]
          },
          "metadata": {},
          "execution_count": 11
        }
      ]
    },
    {
      "cell_type": "code",
      "metadata": {
        "id": "QfwAWEUyzl8R"
      },
      "source": [
        "twenty_groups.target[0]=20"
      ],
      "execution_count": 12,
      "outputs": []
    },
    {
      "cell_type": "code",
      "metadata": {
        "colab": {
          "base_uri": "https://localhost:8080/"
        },
        "id": "XfBCfz05zsBG",
        "outputId": "ae244675-fafa-434d-f82b-e155683f5204"
      },
      "source": [
        "twenty_groups.target[0] # I checked if I could really modify it!"
      ],
      "execution_count": 13,
      "outputs": [
        {
          "output_type": "execute_result",
          "data": {
            "text/plain": [
              "20"
            ]
          },
          "metadata": {},
          "execution_count": 13
        }
      ]
    },
    {
      "cell_type": "code",
      "metadata": {
        "colab": {
          "base_uri": "https://localhost:8080/"
        },
        "id": "jzrTYRRz0HhF",
        "outputId": "47caca85-3a00-4290-e47c-069d7fd45b20"
      },
      "source": [
        "twenty_groups.target[1] #second element"
      ],
      "execution_count": 14,
      "outputs": [
        {
          "output_type": "execute_result",
          "data": {
            "text/plain": [
              "12"
            ]
          },
          "metadata": {},
          "execution_count": 14
        }
      ]
    },
    {
      "cell_type": "code",
      "metadata": {
        "colab": {
          "base_uri": "https://localhost:8080/"
        },
        "id": "9Z2un6GK0VcE",
        "outputId": "464f5ebd-2b86-4721-9895-87f1a1be7939"
      },
      "source": [
        "twenty_groups.target[-1] #last element"
      ],
      "execution_count": 15,
      "outputs": [
        {
          "output_type": "execute_result",
          "data": {
            "text/plain": [
              "7"
            ]
          },
          "metadata": {},
          "execution_count": 15
        }
      ]
    },
    {
      "cell_type": "code",
      "metadata": {
        "id": "6F7frxRcztrR"
      },
      "source": [
        "class_to_keep = 6\n",
        "# now do it in a loop\n",
        "for i in range(0,len(twenty_groups.target)):\n",
        "  if twenty_groups.target[i]!= class_to_keep:\n",
        "    twenty_groups.target[i]=20"
      ],
      "execution_count": 16,
      "outputs": []
    },
    {
      "cell_type": "code",
      "metadata": {
        "colab": {
          "base_uri": "https://localhost:8080/"
        },
        "id": "3uA38BMu0bgj",
        "outputId": "1f618773-8a8a-43fe-86d7-582a6698d531"
      },
      "source": [
        "twenty_groups.target[1] #second element"
      ],
      "execution_count": 17,
      "outputs": [
        {
          "output_type": "execute_result",
          "data": {
            "text/plain": [
              "20"
            ]
          },
          "metadata": {},
          "execution_count": 17
        }
      ]
    },
    {
      "cell_type": "code",
      "metadata": {
        "colab": {
          "base_uri": "https://localhost:8080/"
        },
        "id": "aRR01f_k0eF3",
        "outputId": "4a8a300e-4a98-4f29-a84c-f169535b0424"
      },
      "source": [
        "twenty_groups.target[-1] #last element"
      ],
      "execution_count": 18,
      "outputs": [
        {
          "output_type": "execute_result",
          "data": {
            "text/plain": [
              "20"
            ]
          },
          "metadata": {},
          "execution_count": 18
        }
      ]
    },
    {
      "cell_type": "markdown",
      "metadata": {
        "id": "mmHisB810i4R"
      },
      "source": [
        "## Q2:Do another barchart to see the new class distribution."
      ]
    },
    {
      "cell_type": "code",
      "metadata": {
        "id": "dGewGi-P0foM",
        "colab": {
          "base_uri": "https://localhost:8080/",
          "height": 438
        },
        "outputId": "c638b6ee-3f5c-42e9-8cf1-e4d9aa982ea4"
      },
      "source": [
        "# ANSWER to Q2 goes here\n",
        "########################\n",
        "print(twenty_groups.target.size)\n",
        "\n",
        "df2 = pd.DataFrame(twenty_groups.target, columns = ['Data'])\n",
        "df_data_sum = df.groupby('Data').size()\n",
        "\n",
        "print(df_data_sum.head(50))\n",
        "\n",
        "df_data_sum.plot(kind='bar', ylabel='Data Count', xlabel='Classes', figsize=(6, 5))\n",
        "\n",
        "# Some of the classes have more datasets than others "
      ],
      "execution_count": 19,
      "outputs": [
        {
          "output_type": "stream",
          "name": "stdout",
          "text": [
            "18846\n",
            "Data\n",
            "6       975\n",
            "20    17871\n",
            "dtype: int64\n"
          ]
        },
        {
          "output_type": "execute_result",
          "data": {
            "text/plain": [
              "<matplotlib.axes._subplots.AxesSubplot at 0x7f8daf00df90>"
            ]
          },
          "metadata": {},
          "execution_count": 19
        },
        {
          "output_type": "display_data",
          "data": {
            "image/png": "[encoded data removed]",
            "text/plain": [
              "<Figure size 432x360 with 1 Axes>"
            ]
          },
          "metadata": {
            "needs_background": "light"
          }
        }
      ]
    },
    {
      "cell_type": "code",
      "metadata": {
        "id": "YYWVSaTHpc7n"
      },
      "source": [
        "from sklearn.model_selection import train_test_split\n",
        "\n",
        "#Split the data to have a 10% validation set. \n",
        "twenty_g_X_train, twenty_g_X_test, twenty_g_y_train, twenty_g_y_test = \\\n",
        "train_test_split(twenty_groups.data, twenty_groups.target, \n",
        "                 test_size=0.10, random_state=21)"
      ],
      "execution_count": 20,
      "outputs": []
    },
    {
      "cell_type": "markdown",
      "metadata": {
        "id": "CNVro6IT1ncl"
      },
      "source": [
        "**PRE Q3:** Let's create a pipeline that creates the vectors representing the documents, and then classify them using 5 Nearest Neighbor classifier.\n"
      ]
    },
    {
      "cell_type": "code",
      "metadata": {
        "colab": {
          "base_uri": "https://localhost:8080/"
        },
        "id": "NRZ50e1H1kjS",
        "outputId": "41a39e43-0dcb-4e60-ed72-72da9be176c6"
      },
      "source": [
        "from sklearn.pipeline import Pipeline\n",
        "from sklearn.feature_extraction.text import TfidfVectorizer\n",
        "from sklearn.neighbors import KNeighborsClassifier\n",
        "\n",
        "pipe = Pipeline([('vect', TfidfVectorizer(stop_words='english')),\n",
        "                 ('model', KNeighborsClassifier())])\n",
        "\n",
        "# and do a gridsearchCV to do cross validation \n",
        "from sklearn.model_selection import GridSearchCV\n",
        "# We are not doing hyperparameter optimization, so empty parameters dictionary passed\n",
        "# Using GridSearchCV here, only for cross validation \n",
        "parameters = {}\n",
        "grid_search = GridSearchCV(pipe, parameters, cv=10, verbose=1,n_jobs=-1)\n",
        "\n",
        "# Running the experiments \n",
        "grid_search.fit(twenty_g_X_train, twenty_g_y_train)"
      ],
      "execution_count": 21,
      "outputs": [
        {
          "output_type": "stream",
          "name": "stdout",
          "text": [
            "Fitting 10 folds for each of 1 candidates, totalling 10 fits\n"
          ]
        },
        {
          "output_type": "stream",
          "name": "stderr",
          "text": [
            "[Parallel(n_jobs=-1)]: Using backend LokyBackend with 2 concurrent workers.\n",
            "[Parallel(n_jobs=-1)]: Done  10 out of  10 | elapsed:   50.2s finished\n"
          ]
        },
        {
          "output_type": "execute_result",
          "data": {
            "text/plain": [
              "GridSearchCV(cv=10, error_score=nan,\n",
              "             estimator=Pipeline(memory=None,\n",
              "                                steps=[('vect',\n",
              "                                        TfidfVectorizer(analyzer='word',\n",
              "                                                        binary=False,\n",
              "                                                        decode_error='strict',\n",
              "                                                        dtype=<class 'numpy.float64'>,\n",
              "                                                        encoding='utf-8',\n",
              "                                                        input='content',\n",
              "                                                        lowercase=True,\n",
              "                                                        max_df=1.0,\n",
              "                                                        max_features=None,\n",
              "                                                        min_df=1,\n",
              "                                                        ngram_range=(1, 1),\n",
              "                                                        norm='l2',\n",
              "                                                        preprocessor=None,\n",
              "                                                        smooth_idf=True,\n",
              "                                                        stop_words='english',\n",
              "                                                        stri...\n",
              "                                                        token_pattern='(?u)\\\\b\\\\w\\\\w+\\\\b',\n",
              "                                                        tokenizer=None,\n",
              "                                                        use_idf=True,\n",
              "                                                        vocabulary=None)),\n",
              "                                       ('model',\n",
              "                                        KNeighborsClassifier(algorithm='auto',\n",
              "                                                             leaf_size=30,\n",
              "                                                             metric='minkowski',\n",
              "                                                             metric_params=None,\n",
              "                                                             n_jobs=None,\n",
              "                                                             n_neighbors=5, p=2,\n",
              "                                                             weights='uniform'))],\n",
              "                                verbose=False),\n",
              "             iid='deprecated', n_jobs=-1, param_grid={},\n",
              "             pre_dispatch='2*n_jobs', refit=True, return_train_score=False,\n",
              "             scoring=None, verbose=1)"
            ]
          },
          "metadata": {},
          "execution_count": 21
        }
      ]
    },
    {
      "cell_type": "markdown",
      "metadata": {
        "id": "3f_yDSlG17vH"
      },
      "source": [
        "**PreQ3c**: This is one way to display classification report: "
      ]
    },
    {
      "cell_type": "code",
      "metadata": {
        "colab": {
          "base_uri": "https://localhost:8080/"
        },
        "id": "N77qUBjDaeBO",
        "outputId": "95887924-6540-447a-b35b-46a1b712cf4b"
      },
      "source": [
        "from sklearn.metrics import classification_report\n",
        "\n",
        "# Using the predictor found to be best to predict the validation set\n",
        "predicted1 = grid_search.predict(twenty_g_X_test)\n",
        "\n",
        "from sklearn.metrics import classification_report\n",
        "print(classification_report(twenty_g_y_test,\n",
        "                            predicted1, \n",
        "                            target_names=[\"for-sale\", \"others\"]))\n",
        "\n",
        "from sklearn.metrics import accuracy_score\n",
        "print(\"Accuracy:\", accuracy_score(twenty_g_y_test, predicted1))"
      ],
      "execution_count": 22,
      "outputs": [
        {
          "output_type": "stream",
          "name": "stdout",
          "text": [
            "              precision    recall  f1-score   support\n",
            "\n",
            "    for-sale       0.81      0.39      0.53       107\n",
            "      others       0.96      0.99      0.98      1778\n",
            "\n",
            "    accuracy                           0.96      1885\n",
            "   macro avg       0.89      0.69      0.75      1885\n",
            "weighted avg       0.96      0.96      0.95      1885\n",
            "\n",
            "Accuracy: 0.9602122015915119\n"
          ]
        }
      ]
    },
    {
      "cell_type": "markdown",
      "metadata": {
        "id": "66df1il3tF6p"
      },
      "source": [
        "## Q3a: GridSearchCV for hyperparameter optimization\n",
        "Rerun this experiment to see which k in kNN, gives best f1-score \n",
        "Use \n",
        "```\n",
        "parameters = {\"model__n_neighbors\" : range(1,11,3)}\n",
        "```\n",
        "you will be testing for k values  [1, 4, 7, 10]\n",
        "\n",
        "The experiments may take 5-10 minutes, as kNN classifier is not really a model, \n",
        "but compares with all entries in runtime!\n",
        " "
      ]
    },
    {
      "cell_type": "code",
      "metadata": {
        "id": "M4esnvj4Pu-O",
        "colab": {
          "base_uri": "https://localhost:8080/",
          "height": 312
        },
        "outputId": "68c4bf24-ea2b-4734-8ba3-8af91b04ba67"
      },
      "source": [
        "# ANSWER to Q3a goes here\n",
        "########################\n",
        "from sklearn.pipeline import Pipeline\n",
        "from sklearn.feature_extraction.text import TfidfVectorizer\n",
        "from sklearn.neighbors import KNeighborsClassifier\n",
        "\n",
        "pipe = Pipeline([('vect', TfidfVectorizer(stop_words='english')),\n",
        "                 ('model', KNeighborsClassifier())])\n",
        "\n",
        "# and do a gridsearchCV to do cross validation \n",
        "from sklearn.model_selection import GridSearchCV\n",
        "# Using GridSearchCV here, only for cross validation \n",
        "parameters = {\"model__n_neighbors\" : range(1,11,3)}\n",
        "\n",
        "grid_search1 = GridSearchCV(pipe, parameters, cv=10, scoring='f1_weighted', verbose=1,n_jobs=-1)\n",
        "\n",
        "# Running the experiments \n",
        "grid_search1.fit(twenty_g_X_train, twenty_g_y_train)\n",
        "\n",
        "grid_search1.cv_results_\n",
        "\n",
        "results_df1 = pd.DataFrame(grid_search1.cv_results_)\n",
        "results_df1"
      ],
      "execution_count": 23,
      "outputs": [
        {
          "output_type": "stream",
          "name": "stdout",
          "text": [
            "Fitting 10 folds for each of 4 candidates, totalling 40 fits\n"
          ]
        },
        {
          "output_type": "stream",
          "name": "stderr",
          "text": [
            "[Parallel(n_jobs=-1)]: Using backend LokyBackend with 2 concurrent workers.\n",
            "[Parallel(n_jobs=-1)]: Done  40 out of  40 | elapsed:  3.2min finished\n"
          ]
        },
        {
          "output_type": "execute_result",
          "data": {
            "text/html": [
              "<div>\n",
              "<style scoped>\n",
              "    .dataframe tbody tr th:only-of-type {\n",
              "        vertical-align: middle;\n",
              "    }\n",
              "\n",
              "    .dataframe tbody tr th {\n",
              "        vertical-align: top;\n",
              "    }\n",
              "\n",
              "    .dataframe thead th {\n",
              "        text-align: right;\n",
              "    }\n",
              "</style>\n",
              "<table border=\"1\" class=\"dataframe\">\n",
              "  <thead>\n",
              "    <tr style=\"text-align: right;\">\n",
              "      <th></th>\n",
              "      <th>mean_fit_time</th>\n",
              "      <th>std_fit_time</th>\n",
              "      <th>mean_score_time</th>\n",
              "      <th>std_score_time</th>\n",
              "      <th>param_model__n_neighbors</th>\n",
              "      <th>params</th>\n",
              "      <th>split0_test_score</th>\n",
              "      <th>split1_test_score</th>\n",
              "      <th>split2_test_score</th>\n",
              "      <th>split3_test_score</th>\n",
              "      <th>split4_test_score</th>\n",
              "      <th>split5_test_score</th>\n",
              "      <th>split6_test_score</th>\n",
              "      <th>split7_test_score</th>\n",
              "      <th>split8_test_score</th>\n",
              "      <th>split9_test_score</th>\n",
              "      <th>mean_test_score</th>\n",
              "      <th>std_test_score</th>\n",
              "      <th>rank_test_score</th>\n",
              "    </tr>\n",
              "  </thead>\n",
              "  <tbody>\n",
              "    <tr>\n",
              "      <th>0</th>\n",
              "      <td>6.523838</td>\n",
              "      <td>0.098939</td>\n",
              "      <td>2.840841</td>\n",
              "      <td>0.079782</td>\n",
              "      <td>1</td>\n",
              "      <td>{'model__n_neighbors': 1}</td>\n",
              "      <td>0.964045</td>\n",
              "      <td>0.966109</td>\n",
              "      <td>0.967025</td>\n",
              "      <td>0.964884</td>\n",
              "      <td>0.971051</td>\n",
              "      <td>0.967348</td>\n",
              "      <td>0.967806</td>\n",
              "      <td>0.965522</td>\n",
              "      <td>0.967551</td>\n",
              "      <td>0.961402</td>\n",
              "      <td>0.966274</td>\n",
              "      <td>0.002444</td>\n",
              "      <td>1</td>\n",
              "    </tr>\n",
              "    <tr>\n",
              "      <th>1</th>\n",
              "      <td>6.519542</td>\n",
              "      <td>0.079786</td>\n",
              "      <td>3.061063</td>\n",
              "      <td>0.085357</td>\n",
              "      <td>4</td>\n",
              "      <td>{'model__n_neighbors': 4}</td>\n",
              "      <td>0.964620</td>\n",
              "      <td>0.962653</td>\n",
              "      <td>0.962572</td>\n",
              "      <td>0.960654</td>\n",
              "      <td>0.962825</td>\n",
              "      <td>0.964194</td>\n",
              "      <td>0.961923</td>\n",
              "      <td>0.958892</td>\n",
              "      <td>0.962420</td>\n",
              "      <td>0.960880</td>\n",
              "      <td>0.962163</td>\n",
              "      <td>0.001605</td>\n",
              "      <td>2</td>\n",
              "    </tr>\n",
              "    <tr>\n",
              "      <th>2</th>\n",
              "      <td>6.544325</td>\n",
              "      <td>0.081170</td>\n",
              "      <td>3.054052</td>\n",
              "      <td>0.111472</td>\n",
              "      <td>7</td>\n",
              "      <td>{'model__n_neighbors': 7}</td>\n",
              "      <td>0.962537</td>\n",
              "      <td>0.957747</td>\n",
              "      <td>0.950095</td>\n",
              "      <td>0.955082</td>\n",
              "      <td>0.959898</td>\n",
              "      <td>0.959686</td>\n",
              "      <td>0.958515</td>\n",
              "      <td>0.953537</td>\n",
              "      <td>0.950735</td>\n",
              "      <td>0.956024</td>\n",
              "      <td>0.956385</td>\n",
              "      <td>0.003859</td>\n",
              "      <td>3</td>\n",
              "    </tr>\n",
              "    <tr>\n",
              "      <th>3</th>\n",
              "      <td>6.462106</td>\n",
              "      <td>0.092916</td>\n",
              "      <td>3.051923</td>\n",
              "      <td>0.132992</td>\n",
              "      <td>10</td>\n",
              "      <td>{'model__n_neighbors': 10}</td>\n",
              "      <td>0.961826</td>\n",
              "      <td>0.951542</td>\n",
              "      <td>0.950112</td>\n",
              "      <td>0.955019</td>\n",
              "      <td>0.956133</td>\n",
              "      <td>0.961101</td>\n",
              "      <td>0.957761</td>\n",
              "      <td>0.953537</td>\n",
              "      <td>0.951698</td>\n",
              "      <td>0.956955</td>\n",
              "      <td>0.955568</td>\n",
              "      <td>0.003771</td>\n",
              "      <td>4</td>\n",
              "    </tr>\n",
              "  </tbody>\n",
              "</table>\n",
              "</div>"
            ],
            "text/plain": [
              "   mean_fit_time  std_fit_time  ...  std_test_score  rank_test_score\n",
              "0       6.523838      0.098939  ...        0.002444                1\n",
              "1       6.519542      0.079786  ...        0.001605                2\n",
              "2       6.544325      0.081170  ...        0.003859                3\n",
              "3       6.462106      0.092916  ...        0.003771                4\n",
              "\n",
              "[4 rows x 19 columns]"
            ]
          },
          "metadata": {},
          "execution_count": 23
        }
      ]
    },
    {
      "cell_type": "code",
      "metadata": {
        "colab": {
          "base_uri": "https://localhost:8080/"
        },
        "id": "-_xF933E8P4N",
        "outputId": "57af869a-544b-4ee8-d159-17314ad88c82"
      },
      "source": [
        "from sklearn.pipeline import Pipeline\n",
        "from sklearn.feature_extraction.text import TfidfVectorizer\n",
        "from sklearn.svm import LinearSVC\n",
        "\n",
        "pipe = Pipeline([('vect', TfidfVectorizer(stop_words='english')),\n",
        "                 ('model', LinearSVC())])\n",
        "\n",
        "# and do a gridsearchCV to do cross validation \n",
        "from sklearn.model_selection import GridSearchCV\n",
        "# We are not doing hyperparameter optimization, so empty parameters dictionary passed\n",
        "# Using GridSearchCV here, only for cross validation \n",
        "parameters = {}\n",
        "grid_search = GridSearchCV(pipe, parameters, cv=10, verbose=1)\n",
        "\n",
        "# Running the experiments \n",
        "grid_search.fit(twenty_groups.data, twenty_groups.target)"
      ],
      "execution_count": 24,
      "outputs": [
        {
          "output_type": "stream",
          "name": "stdout",
          "text": [
            "Fitting 10 folds for each of 1 candidates, totalling 10 fits\n"
          ]
        },
        {
          "output_type": "stream",
          "name": "stderr",
          "text": [
            "[Parallel(n_jobs=1)]: Using backend SequentialBackend with 1 concurrent workers.\n",
            "[Parallel(n_jobs=1)]: Done  10 out of  10 | elapsed:   48.2s finished\n"
          ]
        },
        {
          "output_type": "execute_result",
          "data": {
            "text/plain": [
              "GridSearchCV(cv=10, error_score=nan,\n",
              "             estimator=Pipeline(memory=None,\n",
              "                                steps=[('vect',\n",
              "                                        TfidfVectorizer(analyzer='word',\n",
              "                                                        binary=False,\n",
              "                                                        decode_error='strict',\n",
              "                                                        dtype=<class 'numpy.float64'>,\n",
              "                                                        encoding='utf-8',\n",
              "                                                        input='content',\n",
              "                                                        lowercase=True,\n",
              "                                                        max_df=1.0,\n",
              "                                                        max_features=None,\n",
              "                                                        min_df=1,\n",
              "                                                        ngram_range=(1, 1),\n",
              "                                                        norm='l2',\n",
              "                                                        preprocessor=None,\n",
              "                                                        smooth_idf=True,\n",
              "                                                        stop_words='english',\n",
              "                                                        stri...\n",
              "                                                        vocabulary=None)),\n",
              "                                       ('model',\n",
              "                                        LinearSVC(C=1.0, class_weight=None,\n",
              "                                                  dual=True, fit_intercept=True,\n",
              "                                                  intercept_scaling=1,\n",
              "                                                  loss='squared_hinge',\n",
              "                                                  max_iter=1000,\n",
              "                                                  multi_class='ovr',\n",
              "                                                  penalty='l2',\n",
              "                                                  random_state=None, tol=0.0001,\n",
              "                                                  verbose=0))],\n",
              "                                verbose=False),\n",
              "             iid='deprecated', n_jobs=None, param_grid={},\n",
              "             pre_dispatch='2*n_jobs', refit=True, return_train_score=False,\n",
              "             scoring=None, verbose=1)"
            ]
          },
          "metadata": {},
          "execution_count": 24
        }
      ]
    },
    {
      "cell_type": "markdown",
      "metadata": {
        "id": "xlVYTaL50-ox"
      },
      "source": [
        "## Q3b: Run again for 2,3\n",
        "in 3a, you must found best accuracy happened at 1 and 4, so you want to look at 2, 3 too, maybe best is between k=1 and k=4.\n",
        "use \n",
        "\n",
        "\n",
        "```\n",
        "parameters = {\"model__n_neighbors\" : (2, 3)}\n",
        "```\n",
        "\n"
      ]
    },
    {
      "cell_type": "code",
      "metadata": {
        "id": "BwfF2er1094C",
        "colab": {
          "base_uri": "https://localhost:8080/",
          "height": 216
        },
        "outputId": "920b523b-8913-4ba0-c885-0e5efd614ccf"
      },
      "source": [
        "pipe = Pipeline([('vect', TfidfVectorizer(stop_words='english')),\n",
        "                 ('model', KNeighborsClassifier())])\n",
        "\n",
        "# and do a gridsearchCV to do cross validation \n",
        "\n",
        "# Using GridSearchCV here, only for cross validation \n",
        "parameters = {\"model__n_neighbors\" : (2, 3)}\n",
        "\n",
        "grid_search2 = GridSearchCV(pipe, parameters, cv=10, scoring='f1_weighted', verbose=1,n_jobs=-1)\n",
        "\n",
        "# Running the experiments \n",
        "grid_search2.fit(twenty_g_X_train, twenty_g_y_train)\n",
        "\n",
        "grid_search2.cv_results_\n",
        "\n",
        "results_df2 = pd.DataFrame(grid_search2.cv_results_)\n",
        "results_df2"
      ],
      "execution_count": 25,
      "outputs": [
        {
          "output_type": "stream",
          "name": "stdout",
          "text": [
            "Fitting 10 folds for each of 2 candidates, totalling 20 fits\n"
          ]
        },
        {
          "output_type": "stream",
          "name": "stderr",
          "text": [
            "[Parallel(n_jobs=-1)]: Using backend LokyBackend with 2 concurrent workers.\n",
            "[Parallel(n_jobs=-1)]: Done  20 out of  20 | elapsed:  1.6min finished\n"
          ]
        },
        {
          "output_type": "execute_result",
          "data": {
            "text/html": [
              "<div>\n",
              "<style scoped>\n",
              "    .dataframe tbody tr th:only-of-type {\n",
              "        vertical-align: middle;\n",
              "    }\n",
              "\n",
              "    .dataframe tbody tr th {\n",
              "        vertical-align: top;\n",
              "    }\n",
              "\n",
              "    .dataframe thead th {\n",
              "        text-align: right;\n",
              "    }\n",
              "</style>\n",
              "<table border=\"1\" class=\"dataframe\">\n",
              "  <thead>\n",
              "    <tr style=\"text-align: right;\">\n",
              "      <th></th>\n",
              "      <th>mean_fit_time</th>\n",
              "      <th>std_fit_time</th>\n",
              "      <th>mean_score_time</th>\n",
              "      <th>std_score_time</th>\n",
              "      <th>param_model__n_neighbors</th>\n",
              "      <th>params</th>\n",
              "      <th>split0_test_score</th>\n",
              "      <th>split1_test_score</th>\n",
              "      <th>split2_test_score</th>\n",
              "      <th>split3_test_score</th>\n",
              "      <th>split4_test_score</th>\n",
              "      <th>split5_test_score</th>\n",
              "      <th>split6_test_score</th>\n",
              "      <th>split7_test_score</th>\n",
              "      <th>split8_test_score</th>\n",
              "      <th>split9_test_score</th>\n",
              "      <th>mean_test_score</th>\n",
              "      <th>std_test_score</th>\n",
              "      <th>rank_test_score</th>\n",
              "    </tr>\n",
              "  </thead>\n",
              "  <tbody>\n",
              "    <tr>\n",
              "      <th>0</th>\n",
              "      <td>6.516785</td>\n",
              "      <td>0.070670</td>\n",
              "      <td>2.924344</td>\n",
              "      <td>0.085877</td>\n",
              "      <td>2</td>\n",
              "      <td>{'model__n_neighbors': 2}</td>\n",
              "      <td>0.961334</td>\n",
              "      <td>0.960162</td>\n",
              "      <td>0.963424</td>\n",
              "      <td>0.955971</td>\n",
              "      <td>0.961545</td>\n",
              "      <td>0.962322</td>\n",
              "      <td>0.961567</td>\n",
              "      <td>0.956150</td>\n",
              "      <td>0.962748</td>\n",
              "      <td>0.956624</td>\n",
              "      <td>0.960185</td>\n",
              "      <td>0.002710</td>\n",
              "      <td>2</td>\n",
              "    </tr>\n",
              "    <tr>\n",
              "      <th>1</th>\n",
              "      <td>6.518422</td>\n",
              "      <td>0.125152</td>\n",
              "      <td>2.989843</td>\n",
              "      <td>0.082615</td>\n",
              "      <td>3</td>\n",
              "      <td>{'model__n_neighbors': 3}</td>\n",
              "      <td>0.965751</td>\n",
              "      <td>0.962624</td>\n",
              "      <td>0.963532</td>\n",
              "      <td>0.959053</td>\n",
              "      <td>0.965450</td>\n",
              "      <td>0.963662</td>\n",
              "      <td>0.964991</td>\n",
              "      <td>0.954168</td>\n",
              "      <td>0.963423</td>\n",
              "      <td>0.960069</td>\n",
              "      <td>0.962272</td>\n",
              "      <td>0.003398</td>\n",
              "      <td>1</td>\n",
              "    </tr>\n",
              "  </tbody>\n",
              "</table>\n",
              "</div>"
            ],
            "text/plain": [
              "   mean_fit_time  std_fit_time  ...  std_test_score  rank_test_score\n",
              "0       6.516785      0.070670  ...        0.002710                2\n",
              "1       6.518422      0.125152  ...        0.003398                1\n",
              "\n",
              "[2 rows x 19 columns]"
            ]
          },
          "metadata": {},
          "execution_count": 25
        }
      ]
    },
    {
      "cell_type": "markdown",
      "metadata": {
        "id": "3581vAct7BzZ"
      },
      "source": [
        "\n",
        "For the best performing kNN classifier you found, \n",
        "##Q3c:  display classification_report like above in PreQc3, and \n",
        "##Q3d: the confusion matrix..."
      ]
    },
    {
      "cell_type": "code",
      "metadata": {
        "id": "3oChYF7dP1L9",
        "colab": {
          "base_uri": "https://localhost:8080/"
        },
        "outputId": "65924ff6-9eaa-4fd2-8c97-a5b5df8cf501"
      },
      "source": [
        "# ANSWER to Q3c goes here\n",
        "########################\n",
        "\n",
        "# The best performance was K=1\n",
        "# grid_search1 had K=1\n",
        "\n",
        "# Using the predictor found to be best to predict the validation set\n",
        "best_predicted = grid_search1.predict(twenty_g_X_test)\n",
        "\n",
        "print(classification_report(twenty_g_y_test,\n",
        "                            best_predicted, \n",
        "                            target_names=[\"for-sale\", \"others\"]))\n",
        "\n",
        "print(\"Accuracy:\", accuracy_score(twenty_g_y_test, best_predicted))"
      ],
      "execution_count": 26,
      "outputs": [
        {
          "output_type": "stream",
          "name": "stdout",
          "text": [
            "              precision    recall  f1-score   support\n",
            "\n",
            "    for-sale       0.74      0.68      0.71       107\n",
            "      others       0.98      0.99      0.98      1778\n",
            "\n",
            "    accuracy                           0.97      1885\n",
            "   macro avg       0.86      0.83      0.85      1885\n",
            "weighted avg       0.97      0.97      0.97      1885\n",
            "\n",
            "Accuracy: 0.9681697612732095\n"
          ]
        }
      ]
    },
    {
      "cell_type": "code",
      "metadata": {
        "id": "QGyVuPZXP6Ab",
        "colab": {
          "base_uri": "https://localhost:8080/"
        },
        "outputId": "8207f34d-0539-4480-c9aa-1139eb307ba5"
      },
      "source": [
        "# ANSWER to Q3d goes here\n",
        "########################\n",
        "from sklearn.metrics import confusion_matrix\n",
        "\n",
        "print(confusion_matrix(twenty_g_y_test, best_predicted))\n"
      ],
      "execution_count": 27,
      "outputs": [
        {
          "output_type": "stream",
          "name": "stdout",
          "text": [
            "[[  73   34]\n",
            " [  26 1752]]\n"
          ]
        }
      ]
    }
  ]
}